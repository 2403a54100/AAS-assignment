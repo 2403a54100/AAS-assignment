{
  "nbformat": 4,
  "nbformat_minor": 0,
  "metadata": {
    "colab": {
      "provenance": [],
      "authorship_tag": "ABX9TyNZdkeHNIXslluoCx9NwrGf",
      "include_colab_link": true
    },
    "kernelspec": {
      "name": "python3",
      "display_name": "Python 3"
    },
    "language_info": {
      "name": "python"
    }
  },
  "cells": [
    {
      "cell_type": "markdown",
      "metadata": {
        "id": "view-in-github",
        "colab_type": "text"
      },
      "source": [
        "<a href=\"https://colab.research.google.com/github/2403a54100/AAS-assignment/blob/main/ASSIGNMENT--06.ipynb\" target=\"_parent\"><img src=\"https://colab.research.google.com/assets/colab-badge.svg\" alt=\"Open In Colab\"/></a>"
      ]
    },
    {
      "cell_type": "code",
      "execution_count": null,
      "metadata": {
        "id": "N5NoYaXhc8LE"
      },
      "outputs": [],
      "source": [
        "# 2. Class Design Using AI Assistance\n",
        "class Product:\n",
        "    def __init__(self, name, price, quantity):\n",
        "        # AI suggestion used for method signature and initial assignment\n",
        "        self.name = name\n",
        "        self.price = price\n",
        "        self.quantity = quantity\n",
        "\n",
        "    def calculate_value(self):\n",
        "        # Manually added method\n",
        "        return self.price * self.quantity\n",
        "\n",
        "# 3. Create Another Class\n",
        "class Warehouse:\n",
        "    def __init__(self):\n",
        "        # Manually added method\n",
        "        self.products = []\n",
        "\n",
        "    def add_product(self, product):\n",
        "        # AI assistance for method signature and basic list append\n",
        "        if isinstance(product, Product):\n",
        "            self.products.append(product)\n",
        "        else:\n",
        "            print(\"Can only add Product objects to the warehouse.\")\n",
        "\n",
        "    def display_most_valuable_product(self):\n",
        "        # AI assistance provided structure for finding max value, manual edits needed for key and handling empty list\n",
        "        if not self.products:\n",
        "            print(\"Warehouse is empty.\")\n",
        "            return None\n",
        "        most_valuable = max(self.products, key=lambda p: p.calculate_value())\n",
        "        print(f\"Most valuable product: {most_valuable.name} with value {most_valuable.calculate_value()}\")\n",
        "        return most_valuable\n",
        "\n",
        "# 4. Reflection (as comments within the code)\n",
        "# - AI completed the __init__ method signature and assignments for the Product class.\n",
        "# - AI provided the method signature and list append for add_product in the Warehouse class.\n",
        "# - AI offered a structure for finding the max value in display_most_valuable_product,\n",
        "#   but manual editing was necessary to specify the key (calculate_value) and handle the empty list case.\n",
        "# - Overall, AI suggestions were relevant and accurate for basic structure and common patterns,\n",
        "#   but required manual refinement for specific logic and error handling."
      ]
    },
    {
      "cell_type": "code",
      "source": [
        "# 2. Class Design Using AI Assistance\n",
        "class Product:\n",
        "    def __init__(self, name, price, quantity):\n",
        "        # AI suggestion used for method signature and initial assignment\n",
        "        self.name = name\n",
        "        self.price = price\n",
        "        self.quantity = quantity\n",
        "\n",
        "    def calculate_value(self):\n",
        "        # Manually added method\n",
        "        return self.price * self.quantity\n",
        "\n",
        "# 3. Create Another Class\n",
        "class Warehouse:\n",
        "    def __init__(self):\n",
        "        # Manually added method\n",
        "        self.products = []\n",
        "\n",
        "    def add_product(self, product):\n",
        "        # AI assistance for method signature and basic list append\n",
        "        if isinstance(product, Product):\n",
        "            self.products.append(product)\n",
        "        else:\n",
        "            print(\"Can only add Product objects to the warehouse.\")\n",
        "\n",
        "    def display_most_valuable_product(self):\n",
        "        # AI assistance provided structure for finding max value, manual edits needed for key and handling empty list\n",
        "        if not self.products:\n",
        "            print(\"Warehouse is empty.\")\n",
        "            return None\n",
        "        most_valuable = max(self.products, key=lambda p: p.calculate_value())\n",
        "        print(f\"Most valuable product: {most_valuable.name} with value {most_valuable.calculate_value()}\")\n",
        "        return most_valuable\n",
        "\n",
        "# 4. Reflection (as comments within the code)\n",
        "# - AI completed the __init__ method signature and assignments for the Product class.\n",
        "# - AI provided the method signature and list append for add_product in the Warehouse class.\n",
        "# - AI offered a structure for finding the max value in display_most_valuable_product,\n",
        "#   but manual editing was necessary to specify the key (calculate_value) and handle the empty list case.\n",
        "# - Overall, AI suggestions were relevant and accurate for basic structure and common patterns,\n",
        "#   but required manual refinement for specific logic and error handling."
      ],
      "metadata": {
        "id": "Jn7W7pe2gqEt"
      },
      "execution_count": null,
      "outputs": []
    },
    {
      "cell_type": "code",
      "source": [],
      "metadata": {
        "id": "MpPCJ6nsdeeZ"
      },
      "execution_count": null,
      "outputs": []
    }
  ]
}